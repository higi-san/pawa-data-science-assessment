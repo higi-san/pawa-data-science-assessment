{
 "cells": [
  {
   "cell_type": "code",
   "execution_count": 19,
   "id": "c30ef99a-b213-49b5-9e58-092b1436156e",
   "metadata": {},
   "outputs": [],
   "source": [
    "import pandas as pd"
   ]
  },
  {
   "cell_type": "code",
   "execution_count": 36,
   "id": "7f52f656-adc7-4c5a-910f-6d78c9a91db6",
   "metadata": {},
   "outputs": [
    {
     "data": {
      "text/html": [
       "<div>\n",
       "<style scoped>\n",
       "    .dataframe tbody tr th:only-of-type {\n",
       "        vertical-align: middle;\n",
       "    }\n",
       "\n",
       "    .dataframe tbody tr th {\n",
       "        vertical-align: top;\n",
       "    }\n",
       "\n",
       "    .dataframe thead th {\n",
       "        text-align: right;\n",
       "    }\n",
       "</style>\n",
       "<table border=\"1\" class=\"dataframe\">\n",
       "  <thead>\n",
       "    <tr style=\"text-align: right;\">\n",
       "      <th></th>\n",
       "      <th>gender</th>\n",
       "      <th>race/ethnicity</th>\n",
       "      <th>parental level of education</th>\n",
       "      <th>lunch</th>\n",
       "      <th>test preparation course</th>\n",
       "      <th>math score</th>\n",
       "      <th>reading score</th>\n",
       "      <th>writing score</th>\n",
       "    </tr>\n",
       "  </thead>\n",
       "  <tbody>\n",
       "    <tr>\n",
       "      <th>0</th>\n",
       "      <td>male</td>\n",
       "      <td>maasai</td>\n",
       "      <td>university</td>\n",
       "      <td>free/reduced</td>\n",
       "      <td>none</td>\n",
       "      <td>20</td>\n",
       "      <td>58</td>\n",
       "      <td>78</td>\n",
       "    </tr>\n",
       "    <tr>\n",
       "      <th>1</th>\n",
       "      <td>female</td>\n",
       "      <td>kamba</td>\n",
       "      <td>polytechnic</td>\n",
       "      <td>free/reduced</td>\n",
       "      <td>completed</td>\n",
       "      <td>18</td>\n",
       "      <td>29</td>\n",
       "      <td>18</td>\n",
       "    </tr>\n",
       "    <tr>\n",
       "      <th>2</th>\n",
       "      <td>female</td>\n",
       "      <td>luo</td>\n",
       "      <td>kcpe</td>\n",
       "      <td>standard</td>\n",
       "      <td>none</td>\n",
       "      <td>35</td>\n",
       "      <td>31</td>\n",
       "      <td>59</td>\n",
       "    </tr>\n",
       "    <tr>\n",
       "      <th>3</th>\n",
       "      <td>male</td>\n",
       "      <td>luhya</td>\n",
       "      <td>university</td>\n",
       "      <td>standard</td>\n",
       "      <td>none</td>\n",
       "      <td>96</td>\n",
       "      <td>79</td>\n",
       "      <td>39</td>\n",
       "    </tr>\n",
       "    <tr>\n",
       "      <th>4</th>\n",
       "      <td>female</td>\n",
       "      <td>maasai</td>\n",
       "      <td>polytechnic</td>\n",
       "      <td>standard</td>\n",
       "      <td>completed</td>\n",
       "      <td>84</td>\n",
       "      <td>75</td>\n",
       "      <td>24</td>\n",
       "    </tr>\n",
       "  </tbody>\n",
       "</table>\n",
       "</div>"
      ],
      "text/plain": [
       "   gender race/ethnicity parental level of education         lunch  \\\n",
       "0    male         maasai                  university  free/reduced   \n",
       "1  female          kamba                 polytechnic  free/reduced   \n",
       "2  female            luo                        kcpe      standard   \n",
       "3    male          luhya                  university      standard   \n",
       "4  female         maasai                 polytechnic      standard   \n",
       "\n",
       "  test preparation course  math score  reading score  writing score  \n",
       "0                    none          20             58             78  \n",
       "1               completed          18             29             18  \n",
       "2                    none          35             31             59  \n",
       "3                    none          96             79             39  \n",
       "4               completed          84             75             24  "
      ]
     },
     "execution_count": 36,
     "metadata": {},
     "output_type": "execute_result"
    }
   ],
   "source": [
    "#load and display dataset from csv\n",
    "students_df = pd.read_csv('student_performance.csv')\n",
    "students_df.head()"
   ]
  },
  {
   "cell_type": "code",
   "execution_count": 37,
   "id": "c414f465-fd84-45d3-9900-385314b4f487",
   "metadata": {},
   "outputs": [
    {
     "data": {
      "text/plain": [
       "gender                         object\n",
       "race/ethnicity                 object\n",
       "parental level of education    object\n",
       "lunch                          object\n",
       "test preparation course        object\n",
       "math score                      int64\n",
       "reading score                   int64\n",
       "writing score                   int64\n",
       "dtype: object"
      ]
     },
     "execution_count": 37,
     "metadata": {},
     "output_type": "execute_result"
    }
   ],
   "source": [
    "#view the df data types to work with\n",
    "students_df.dtypes"
   ]
  },
  {
   "cell_type": "code",
   "execution_count": 38,
   "id": "bb7fa0aa-7aa3-42c4-8257-bde770b5c3f0",
   "metadata": {},
   "outputs": [
    {
     "data": {
      "text/html": [
       "<div>\n",
       "<style scoped>\n",
       "    .dataframe tbody tr th:only-of-type {\n",
       "        vertical-align: middle;\n",
       "    }\n",
       "\n",
       "    .dataframe tbody tr th {\n",
       "        vertical-align: top;\n",
       "    }\n",
       "\n",
       "    .dataframe thead th {\n",
       "        text-align: right;\n",
       "    }\n",
       "</style>\n",
       "<table border=\"1\" class=\"dataframe\">\n",
       "  <thead>\n",
       "    <tr style=\"text-align: right;\">\n",
       "      <th></th>\n",
       "      <th>math score</th>\n",
       "      <th>reading score</th>\n",
       "      <th>writing score</th>\n",
       "    </tr>\n",
       "  </thead>\n",
       "  <tbody>\n",
       "    <tr>\n",
       "      <th>count</th>\n",
       "      <td>1000.000000</td>\n",
       "      <td>1000.000000</td>\n",
       "      <td>1000.000000</td>\n",
       "    </tr>\n",
       "    <tr>\n",
       "      <th>mean</th>\n",
       "      <td>50.089000</td>\n",
       "      <td>50.629000</td>\n",
       "      <td>49.252000</td>\n",
       "    </tr>\n",
       "    <tr>\n",
       "      <th>std</th>\n",
       "      <td>28.714937</td>\n",
       "      <td>28.826591</td>\n",
       "      <td>29.028213</td>\n",
       "    </tr>\n",
       "    <tr>\n",
       "      <th>min</th>\n",
       "      <td>0.000000</td>\n",
       "      <td>0.000000</td>\n",
       "      <td>0.000000</td>\n",
       "    </tr>\n",
       "    <tr>\n",
       "      <th>25%</th>\n",
       "      <td>25.000000</td>\n",
       "      <td>26.000000</td>\n",
       "      <td>24.000000</td>\n",
       "    </tr>\n",
       "    <tr>\n",
       "      <th>50%</th>\n",
       "      <td>51.000000</td>\n",
       "      <td>51.000000</td>\n",
       "      <td>49.000000</td>\n",
       "    </tr>\n",
       "    <tr>\n",
       "      <th>75%</th>\n",
       "      <td>75.000000</td>\n",
       "      <td>75.000000</td>\n",
       "      <td>74.250000</td>\n",
       "    </tr>\n",
       "    <tr>\n",
       "      <th>max</th>\n",
       "      <td>99.000000</td>\n",
       "      <td>99.000000</td>\n",
       "      <td>99.000000</td>\n",
       "    </tr>\n",
       "  </tbody>\n",
       "</table>\n",
       "</div>"
      ],
      "text/plain": [
       "        math score  reading score  writing score\n",
       "count  1000.000000    1000.000000    1000.000000\n",
       "mean     50.089000      50.629000      49.252000\n",
       "std      28.714937      28.826591      29.028213\n",
       "min       0.000000       0.000000       0.000000\n",
       "25%      25.000000      26.000000      24.000000\n",
       "50%      51.000000      51.000000      49.000000\n",
       "75%      75.000000      75.000000      74.250000\n",
       "max      99.000000      99.000000      99.000000"
      ]
     },
     "execution_count": 38,
     "metadata": {},
     "output_type": "execute_result"
    }
   ],
   "source": [
    "#basic dataframe statistics\n",
    "students_df.describe()"
   ]
  },
  {
   "cell_type": "code",
   "execution_count": 43,
   "id": "0fa02171-08e6-4189-8351-0599351b745a",
   "metadata": {},
   "outputs": [
    {
     "data": {
      "image/png": "[encoded data removed]",
      "text/plain": [
       "<Figure size 400x300 with 1 Axes>"
      ]
     },
     "metadata": {},
     "output_type": "display_data"
    },
    {
     "data": {
      "image/png": "[encoded data removed]",
      "text/plain": [
       "<Figure size 400x300 with 1 Axes>"
      ]
     },
     "metadata": {},
     "output_type": "display_data"
    },
    {
     "data": {
      "image/png": "[encoded data removed]",
      "text/plain": [
       "<Figure size 400x300 with 1 Axes>"
      ]
     },
     "metadata": {},
     "output_type": "display_data"
    }
   ],
   "source": [
    "#histogram visualization using pandas\n",
    "import matplotlib.pyplot as plt\n",
    "students_df.plot.hist(column='math score',figsize=(4,3), rwidth=0.9)\n",
    "students_df.plot.hist(column='reading score',figsize=(4,3), rwidth=0.9)\n",
    "students_df.plot.hist(column='writing score',figsize=(4,3), rwidth=0.9)\n",
    "plt.show()\n",
    "#ToDo: plot using seaborn"
   ]
  },
  {
   "cell_type": "code",
   "execution_count": 40,
   "id": "c9aadae2-1f85-466c-8b80-f4e0cf469b65",
   "metadata": {},
   "outputs": [
    {
     "data": {
      "text/html": [
       "<div>\n",
       "<style scoped>\n",
       "    .dataframe tbody tr th:only-of-type {\n",
       "        vertical-align: middle;\n",
       "    }\n",
       "\n",
       "    .dataframe tbody tr th {\n",
       "        vertical-align: top;\n",
       "    }\n",
       "\n",
       "    .dataframe thead th {\n",
       "        text-align: right;\n",
       "    }\n",
       "</style>\n",
       "<table border=\"1\" class=\"dataframe\">\n",
       "  <thead>\n",
       "    <tr style=\"text-align: right;\">\n",
       "      <th></th>\n",
       "      <th>gender</th>\n",
       "      <th>race/ethnicity</th>\n",
       "      <th>parental level of education</th>\n",
       "      <th>lunch</th>\n",
       "      <th>test preparation course</th>\n",
       "      <th>math score</th>\n",
       "      <th>reading score</th>\n",
       "      <th>writing score</th>\n",
       "      <th>average score</th>\n",
       "    </tr>\n",
       "  </thead>\n",
       "  <tbody>\n",
       "    <tr>\n",
       "      <th>0</th>\n",
       "      <td>male</td>\n",
       "      <td>maasai</td>\n",
       "      <td>university</td>\n",
       "      <td>free/reduced</td>\n",
       "      <td>none</td>\n",
       "      <td>20</td>\n",
       "      <td>58</td>\n",
       "      <td>78</td>\n",
       "      <td>52.00</td>\n",
       "    </tr>\n",
       "    <tr>\n",
       "      <th>1</th>\n",
       "      <td>female</td>\n",
       "      <td>kamba</td>\n",
       "      <td>polytechnic</td>\n",
       "      <td>free/reduced</td>\n",
       "      <td>completed</td>\n",
       "      <td>18</td>\n",
       "      <td>29</td>\n",
       "      <td>18</td>\n",
       "      <td>21.67</td>\n",
       "    </tr>\n",
       "    <tr>\n",
       "      <th>2</th>\n",
       "      <td>female</td>\n",
       "      <td>luo</td>\n",
       "      <td>kcpe</td>\n",
       "      <td>standard</td>\n",
       "      <td>none</td>\n",
       "      <td>35</td>\n",
       "      <td>31</td>\n",
       "      <td>59</td>\n",
       "      <td>41.67</td>\n",
       "    </tr>\n",
       "    <tr>\n",
       "      <th>3</th>\n",
       "      <td>male</td>\n",
       "      <td>luhya</td>\n",
       "      <td>university</td>\n",
       "      <td>standard</td>\n",
       "      <td>none</td>\n",
       "      <td>96</td>\n",
       "      <td>79</td>\n",
       "      <td>39</td>\n",
       "      <td>71.33</td>\n",
       "    </tr>\n",
       "    <tr>\n",
       "      <th>4</th>\n",
       "      <td>female</td>\n",
       "      <td>maasai</td>\n",
       "      <td>polytechnic</td>\n",
       "      <td>standard</td>\n",
       "      <td>completed</td>\n",
       "      <td>84</td>\n",
       "      <td>75</td>\n",
       "      <td>24</td>\n",
       "      <td>61.00</td>\n",
       "    </tr>\n",
       "    <tr>\n",
       "      <th>...</th>\n",
       "      <td>...</td>\n",
       "      <td>...</td>\n",
       "      <td>...</td>\n",
       "      <td>...</td>\n",
       "      <td>...</td>\n",
       "      <td>...</td>\n",
       "      <td>...</td>\n",
       "      <td>...</td>\n",
       "      <td>...</td>\n",
       "    </tr>\n",
       "    <tr>\n",
       "      <th>995</th>\n",
       "      <td>male</td>\n",
       "      <td>luo</td>\n",
       "      <td>polytechnic</td>\n",
       "      <td>standard</td>\n",
       "      <td>completed</td>\n",
       "      <td>0</td>\n",
       "      <td>6</td>\n",
       "      <td>95</td>\n",
       "      <td>33.67</td>\n",
       "    </tr>\n",
       "    <tr>\n",
       "      <th>996</th>\n",
       "      <td>male</td>\n",
       "      <td>kamba</td>\n",
       "      <td>kcse</td>\n",
       "      <td>standard</td>\n",
       "      <td>completed</td>\n",
       "      <td>71</td>\n",
       "      <td>18</td>\n",
       "      <td>43</td>\n",
       "      <td>44.00</td>\n",
       "    </tr>\n",
       "    <tr>\n",
       "      <th>997</th>\n",
       "      <td>male</td>\n",
       "      <td>maasai</td>\n",
       "      <td>polytechnic</td>\n",
       "      <td>standard</td>\n",
       "      <td>completed</td>\n",
       "      <td>61</td>\n",
       "      <td>56</td>\n",
       "      <td>72</td>\n",
       "      <td>63.00</td>\n",
       "    </tr>\n",
       "    <tr>\n",
       "      <th>998</th>\n",
       "      <td>female</td>\n",
       "      <td>kikuyu</td>\n",
       "      <td>kcpe</td>\n",
       "      <td>standard</td>\n",
       "      <td>none</td>\n",
       "      <td>81</td>\n",
       "      <td>33</td>\n",
       "      <td>22</td>\n",
       "      <td>45.33</td>\n",
       "    </tr>\n",
       "    <tr>\n",
       "      <th>999</th>\n",
       "      <td>male</td>\n",
       "      <td>kamba</td>\n",
       "      <td>polytechnic</td>\n",
       "      <td>standard</td>\n",
       "      <td>completed</td>\n",
       "      <td>32</td>\n",
       "      <td>8</td>\n",
       "      <td>39</td>\n",
       "      <td>26.33</td>\n",
       "    </tr>\n",
       "  </tbody>\n",
       "</table>\n",
       "<p>1000 rows × 9 columns</p>\n",
       "</div>"
      ],
      "text/plain": [
       "     gender race/ethnicity parental level of education         lunch  \\\n",
       "0      male         maasai                  university  free/reduced   \n",
       "1    female          kamba                 polytechnic  free/reduced   \n",
       "2    female            luo                        kcpe      standard   \n",
       "3      male          luhya                  university      standard   \n",
       "4    female         maasai                 polytechnic      standard   \n",
       "..      ...            ...                         ...           ...   \n",
       "995    male            luo                 polytechnic      standard   \n",
       "996    male          kamba                        kcse      standard   \n",
       "997    male         maasai                 polytechnic      standard   \n",
       "998  female         kikuyu                        kcpe      standard   \n",
       "999    male          kamba                 polytechnic      standard   \n",
       "\n",
       "    test preparation course  math score  reading score  writing score  \\\n",
       "0                      none          20             58             78   \n",
       "1                 completed          18             29             18   \n",
       "2                      none          35             31             59   \n",
       "3                      none          96             79             39   \n",
       "4                 completed          84             75             24   \n",
       "..                      ...         ...            ...            ...   \n",
       "995               completed           0              6             95   \n",
       "996               completed          71             18             43   \n",
       "997               completed          61             56             72   \n",
       "998                    none          81             33             22   \n",
       "999               completed          32              8             39   \n",
       "\n",
       "     average score  \n",
       "0            52.00  \n",
       "1            21.67  \n",
       "2            41.67  \n",
       "3            71.33  \n",
       "4            61.00  \n",
       "..             ...  \n",
       "995          33.67  \n",
       "996          44.00  \n",
       "997          63.00  \n",
       "998          45.33  \n",
       "999          26.33  \n",
       "\n",
       "[1000 rows x 9 columns]"
      ]
     },
     "execution_count": 40,
     "metadata": {},
     "output_type": "execute_result"
    }
   ],
   "source": [
    "#create calculated column for student score average\n",
    "students_df['average score'] = students_df[['math score','reading score','writing score']].mean(axis=1).round(2)\n",
    "students_df"
   ]
  },
  {
   "cell_type": "code",
   "execution_count": 41,
   "id": "a6731258-a58d-43dd-9ffc-9bc417a1ecc6",
   "metadata": {},
   "outputs": [
    {
     "name": "stdout",
     "output_type": "stream",
     "text": [
      "Male students average math score: 50.12903225806452\n"
     ]
    }
   ],
   "source": [
    "#Calculate male students average math score\n",
    "gender_group = students_df.groupby(['gender'])\n",
    "print('Male students average math score:', gender_group['math score'].mean().loc['male'])"
   ]
  },
  {
   "cell_type": "code",
   "execution_count": 42,
   "id": "d9412552-b344-4ca6-98e6-94ac1eb3fe0c",
   "metadata": {},
   "outputs": [
    {
     "data": {
      "text/plain": [
       "test preparation course\n",
       "none         50.1%\n",
       "completed    49.9%\n",
       "Name: proportion, dtype: object"
      ]
     },
     "execution_count": 42,
     "metadata": {},
     "output_type": "execute_result"
    }
   ],
   "source": [
    "# Calculate % No. of students who completed the preperation test\n",
    "test_prep_group = (students_df['test preparation course']).value_counts(normalize=True).mul(100).astype(str) + '%'\n",
    "test_prep_group"
   ]
  },
  {
   "cell_type": "code",
   "execution_count": 45,
   "id": "b53e9de0-7bea-414f-a608-8cbda7534967",
   "metadata": {},
   "outputs": [
    {
     "data": {
      "image/png": "[encoded data removed]",
      "text/plain": [
       "<Figure size 640x480 with 1 Axes>"
      ]
     },
     "metadata": {},
     "output_type": "display_data"
    }
   ],
   "source": [
    "import seaborn as sns\n",
    "#plot race against average score\n",
    "sns.boxplot(data=students_df, x=\"race/ethnicity\", y=\"average score\", hue='race/ethnicity')\n",
    "plt.title('Race/Ethnicity Against Average Score')\n",
    "plt.show()"
   ]
  },
  {
   "cell_type": "code",
   "execution_count": null,
   "id": "1395c8f4-e675-4457-9371-8e0caff45dcf",
   "metadata": {},
   "outputs": [],
   "source": []
  }
 ],
 "metadata": {
  "kernelspec": {
   "display_name": "Python 3 (ipykernel)",
   "language": "python",
   "name": "python3"
  },
  "language_info": {
   "codemirror_mode": {
    "name": "ipython",
    "version": 3
   },
   "file_extension": ".py",
   "mimetype": "text/x-python",
   "name": "python",
   "nbconvert_exporter": "python",
   "pygments_lexer": "ipython3",
   "version": "3.10.10"
  }
 },
 "nbformat": 4,
 "nbformat_minor": 5
}
